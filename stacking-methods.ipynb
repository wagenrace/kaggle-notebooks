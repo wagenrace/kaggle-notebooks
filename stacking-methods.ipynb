{
 "cells": [
  {
   "cell_type": "markdown",
   "id": "b5add6d1",
   "metadata": {},
   "source": [
    "# Combining models\n",
    "\n",
    "There are many methods to combine models. \n",
    "\n",
    "🗳️ **Voting**\n",
    "\n",
    "Just count what each models predicts and takes the most common prediction. This is simple to use but has it pitfalls.\n",
    "- **Strong correlation**: Sometimes two models have almost the same outcome, with voting you just double their influence.\n",
    "- **Repeat mistakes**: Not every model will be great for the same kind of data. If most of the models make a same mistake on a datapoint it does not mean they are right.\n",
    "\n",
    "🗳️ + 🔢 **Voting with scores**\n",
    "\n",
    "To counter these problems we need models to differ in prediction and have a confidence score so we know when to listen.\n",
    "In my model with Umap+nearest neighbors it was very rare for correct predictions to have an ambiguity in there neighbors."
   ]
  },
  {
   "cell_type": "code",
   "execution_count": 23,
   "id": "6929cfd2",
   "metadata": {},
   "outputs": [],
   "source": [
    "from pathlib import Path\n",
    "from dataclasses import dataclass\n",
    "import pandas as pd"
   ]
  },
  {
   "cell_type": "markdown",
   "id": "705526c7-ae08-45aa-9241-0079da16d87f",
   "metadata": {},
   "source": [
    "## Correlation\n",
    "\n",
    "Lets find a model that does NOT correlate strongly with my model. For this I am looking for notebooks that introduce their own solution not just take existing submissions and combining them."
   ]
  },
  {
   "cell_type": "code",
   "execution_count": 33,
   "id": "9afad6b9-1487-4221-87b5-1876063335d1",
   "metadata": {
    "execution": {
     "iopub.execute_input": "2025-07-27T20:16:56.817633Z",
     "iopub.status.busy": "2025-07-27T20:16:56.817349Z",
     "iopub.status.idle": "2025-07-27T20:16:58.119011Z",
     "shell.execute_reply": "2025-07-27T20:16:58.118146Z",
     "shell.execute_reply.started": "2025-07-27T20:16:56.817609Z"
    },
    "trusted": true
   },
   "outputs": [],
   "source": [
    "@dataclass\n",
    "class Submission:\n",
    "    name: str\n",
    "    path: Path\n",
    "    predictions: pd.DataFrame\n",
    "\n",
    "\n",
    "all_submissions_paths = Path(r\"/kaggle/input/\").glob(r\"**/submission.csv\")\n",
    "\n",
    "all_submissions = []\n",
    "for i in all_submissions_paths:\n",
    "    name = str(i.parent).split(r\"/\")[-1]\n",
    "    all_submissions.append(Submission(name=name, path=i, predictions=pd.read_csv(i)))\n",
    "\n",
    "all_names = [i.name for i in all_submissions]"
   ]
  },
  {
   "cell_type": "code",
   "execution_count": 37,
   "id": "23cac389",
   "metadata": {},
   "outputs": [
    {
     "data": {
      "text/html": [
       "<div>\n",
       "<style scoped>\n",
       "    .dataframe tbody tr th:only-of-type {\n",
       "        vertical-align: middle;\n",
       "    }\n",
       "\n",
       "    .dataframe tbody tr th {\n",
       "        vertical-align: top;\n",
       "    }\n",
       "\n",
       "    .dataframe thead th {\n",
       "        text-align: right;\n",
       "    }\n",
       "</style>\n",
       "<table border=\"1\" class=\"dataframe\">\n",
       "  <thead>\n",
       "    <tr style=\"text-align: right;\">\n",
       "      <th></th>\n",
       "      <th>0-87759-fake-or-real-bert-pca-randomforest</th>\n",
       "      <th>dimension-reduction-with-umap</th>\n",
       "      <th>extracting-features-with-spacy</th>\n",
       "    </tr>\n",
       "  </thead>\n",
       "  <tbody>\n",
       "    <tr>\n",
       "      <th>0-87759-fake-or-real-bert-pca-randomforest</th>\n",
       "      <td>1.0</td>\n",
       "      <td>0.855805</td>\n",
       "      <td>0.808052</td>\n",
       "    </tr>\n",
       "    <tr>\n",
       "      <th>dimension-reduction-with-umap</th>\n",
       "      <td>0.855805</td>\n",
       "      <td>1.0</td>\n",
       "      <td>0.832397</td>\n",
       "    </tr>\n",
       "    <tr>\n",
       "      <th>extracting-features-with-spacy</th>\n",
       "      <td>0.808052</td>\n",
       "      <td>0.832397</td>\n",
       "      <td>1.0</td>\n",
       "    </tr>\n",
       "  </tbody>\n",
       "</table>\n",
       "</div>"
      ],
      "text/plain": [
       "                                           0-87759-fake-or-real-bert-pca-randomforest  \\\n",
       "0-87759-fake-or-real-bert-pca-randomforest                                        1.0   \n",
       "dimension-reduction-with-umap                                                0.855805   \n",
       "extracting-features-with-spacy                                               0.808052   \n",
       "\n",
       "                                           dimension-reduction-with-umap  \\\n",
       "0-87759-fake-or-real-bert-pca-randomforest                      0.855805   \n",
       "dimension-reduction-with-umap                                        1.0   \n",
       "extracting-features-with-spacy                                  0.832397   \n",
       "\n",
       "                                           extracting-features-with-spacy  \n",
       "0-87759-fake-or-real-bert-pca-randomforest                       0.808052  \n",
       "dimension-reduction-with-umap                                    0.832397  \n",
       "extracting-features-with-spacy                                        1.0  "
      ]
     },
     "execution_count": 37,
     "metadata": {},
     "output_type": "execute_result"
    }
   ],
   "source": [
    "corr_data = pd.DataFrame(index=all_names, columns=all_names)\n",
    "for x in all_submissions:\n",
    "    for y in all_submissions:\n",
    "        corr_data.loc[x.name, y.name] = (\n",
    "            x.predictions.real_text_id == y.predictions.real_text_id\n",
    "        ).mean()\n",
    "corr_data.head()"
   ]
  }
 ],
 "metadata": {
  "kaggle": {
   "accelerator": "none",
   "dataSources": [
    {
     "databundleVersionId": 12964783,
     "sourceId": 105874,
     "sourceType": "competition"
    },
    {
     "sourceId": 249922570,
     "sourceType": "kernelVersion"
    },
    {
     "sourceId": 250478465,
     "sourceType": "kernelVersion"
    },
    {
     "sourceId": 251424791,
     "sourceType": "kernelVersion"
    },
    {
     "sourceId": 251447209,
     "sourceType": "kernelVersion"
    },
    {
     "sourceId": 252408266,
     "sourceType": "kernelVersion"
    },
    {
     "sourceId": 252827876,
     "sourceType": "kernelVersion"
    },
    {
     "sourceId": 252134293,
     "sourceType": "kernelVersion"
    }
   ],
   "dockerImageVersionId": 31089,
   "isGpuEnabled": false,
   "isInternetEnabled": true,
   "language": "python",
   "sourceType": "notebook"
  },
  "kernelspec": {
   "display_name": "kaggle-projects",
   "language": "python",
   "name": "python3"
  },
  "language_info": {
   "codemirror_mode": {
    "name": "ipython",
    "version": 3
   },
   "file_extension": ".py",
   "mimetype": "text/x-python",
   "name": "python",
   "nbconvert_exporter": "python",
   "pygments_lexer": "ipython3",
   "version": "3.13.3"
  }
 },
 "nbformat": 4,
 "nbformat_minor": 5
}
