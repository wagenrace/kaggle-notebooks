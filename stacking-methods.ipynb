{
 "cells": [
  {
   "cell_type": "markdown",
   "id": "b5add6d1",
   "metadata": {},
   "source": [
    "# Combining models\n",
    "\n",
    "There are many methods to combine models. \n",
    "\n",
    "🗳️ **Voting**\n",
    "\n",
    "Just count what each models predicts and takes the most common prediction. This is simple to use but has it pitfalls.\n",
    "- **Strong correlation**: Sometimes two models have almost the same outcome, with voting you just double their influence.\n",
    "- **Repeat mistakes**: Not every model will be great for the same kind of data. If most of the models make a same mistake on a datapoint it does not mean they are right.\n",
    "\n",
    "🗳️ + 🔢 **Voting with scores**\n",
    "\n",
    "To counter these problems we need models to differ in prediction and have a confidence score so we know when to listen.\n",
    "In my model with Umap+nearest neighbors it was very rare for correct predictions to have an ambiguity in there neighbors."
   ]
  },
  {
   "cell_type": "code",
   "execution_count": null,
   "id": "1f8023a3",
   "metadata": {
    "vscode": {
     "languageId": "plaintext"
    }
   },
   "outputs": [],
   "source": []
  },
  {
   "cell_type": "markdown",
   "id": "90e4d655",
   "metadata": {},
   "source": [
    "## Correlation\n",
    "\n",
    "Lets find a model that does NOT correlate strongly with my model."
   ]
  }
 ],
 "metadata": {
  "language_info": {
   "name": "python"
  }
 },
 "nbformat": 4,
 "nbformat_minor": 5
}
